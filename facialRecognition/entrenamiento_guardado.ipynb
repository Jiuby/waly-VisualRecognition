{
 "cells": [
  {
   "cell_type": "code",
   "id": "initial_id",
   "metadata": {
    "collapsed": true,
    "ExecuteTime": {
     "end_time": "2025-05-28T03:14:29.867653Z",
     "start_time": "2025-05-28T03:04:37.919925Z"
    }
   },
   "source": [
    "#!/usr/bin/env python3\n",
    "import os\n",
    "import sys\n",
    "import pickle\n",
    "import mimetypes\n",
    "import boto3\n",
    "import cv2\n",
    "import insightface\n",
    "from io import BytesIO\n",
    "from sklearn.preprocessing import normalize\n",
    "from tqdm import tqdm\n",
    "import environ\n",
    "\n",
    "# Función para encontrar el .env junto a manage.py\n",
    "def find_project_env():\n",
    "    \"\"\"\n",
    "    Sube la jerarquía de carpetas hasta encontrar 'manage.py'\n",
    "    y devuelve la ruta a '.env' en ese mismo directorio.\n",
    "    \"\"\"\n",
    "    path = os.getcwd()\n",
    "    while True:\n",
    "        if os.path.isfile(os.path.join(path, 'manage.py')):\n",
    "            env_file = os.path.join(path, '.env')\n",
    "            return env_file if os.path.isfile(env_file) else None\n",
    "        parent = os.path.dirname(path)\n",
    "        if parent == path:\n",
    "            return None\n",
    "        path = parent\n",
    "\n",
    "# 1) Localiza y carga el .env de la raíz del proyecto (donde está manage.py)\n",
    "dotenv_path = find_project_env()\n",
    "if not dotenv_path:\n",
    "    print(\"ERROR: no se encontró .env junto a manage.py\")\n",
    "    sys.exit(1)\n",
    "\n",
    "# 2) Leer variables de entorno usando django-environ\n",
    "env = environ.Env()\n",
    "env.read_env(dotenv_path)\n",
    "\n",
    "try:\n",
    "    AWS_ACCESS_KEY_ID     = env('AWS_ACCESS_KEY_ID')\n",
    "    AWS_SECRET_ACCESS_KEY = env('AWS_SECRET_ACCESS_KEY')\n",
    "    AWS_REGION            = env('AWS_REGION')\n",
    "    S3_BUCKET             = env('S3_BUCKET')\n",
    "    S3_KEY                = env('S3_KEY')\n",
    "except Exception as e:\n",
    "    print(f\"❌ Falta variable en .env: {e}\")\n",
    "    sys.exit(1)\n",
    "\n",
    "# 3) Inicializa cliente S3\n",
    "session = boto3.Session(\n",
    "    aws_access_key_id     = AWS_ACCESS_KEY_ID,\n",
    "    aws_secret_access_key = AWS_SECRET_ACCESS_KEY,\n",
    "    region_name           = AWS_REGION\n",
    ")\n",
    "s3 = session.client('s3')\n",
    "\n",
    "# 4) Inicializa modelo ArcFace\n",
    "model = insightface.app.FaceAnalysis(allowed_modules=['detection', 'recognition'])\n",
    "model.prepare(ctx_id=0)\n",
    "\n",
    "def load_embeddings(folder):\n",
    "    \"\"\"\n",
    "    Recorre `folder`, extrae embeddings con ArcFace, y devuelve\n",
    "a normalized embeddings array and labels list.\n",
    "    \"\"\"\n",
    "    embs, labels = [], []\n",
    "    for fn in tqdm(os.listdir(folder), desc=\"Extrayendo embeddings\"):\n",
    "        path = os.path.join(folder, fn)\n",
    "        img = cv2.imread(path)\n",
    "        if img is None:\n",
    "            continue\n",
    "        for face in model.get(img):\n",
    "            emb = face.embedding\n",
    "            if emb is not None:\n",
    "                embs.append(emb)\n",
    "                labels.append(os.path.splitext(fn)[0])\n",
    "    if not embs:\n",
    "        raise RuntimeError(\"No se extrajo ningún embedding de la carpeta.\")\n",
    "    return normalize(embs), labels\n",
    "\n",
    "# 5) Lógica principal de ejecución def main():\n",
    "def main():\n",
    "    # Toma el primer argumento que sea un directorio existente, o usa 'faces'\n",
    "    folder = 'faces'\n",
    "    for a in sys.argv[1:]:\n",
    "        if os.path.isdir(a):\n",
    "            folder = a\n",
    "            break\n",
    "\n",
    "    if not os.path.isdir(folder):\n",
    "        print(f\"ERROR: carpeta no encontrada '{folder}'\")\n",
    "        sys.exit(1)\n",
    "\n",
    "    # Extrae y normaliza embeddings\n",
    "    embeddings, labels = load_embeddings(folder)\n",
    "\n",
    "    # Empaqueta en pickle y sube a S3\n",
    "    buf = BytesIO()\n",
    "    pickle.dump({'embeddings': embeddings, 'labels': labels}, buf)\n",
    "    buf.seek(0)\n",
    "\n",
    "    s3.upload_fileobj(buf, Bucket=S3_BUCKET, Key=S3_KEY)\n",
    "    print(f\"✔ Embeddings subidos a s3://{S3_BUCKET}/{S3_KEY}\")\n",
    "\n",
    "if __name__ == '__main__':\n",
    "    main()\n"
   ],
   "outputs": [
    {
     "name": "stdout",
     "output_type": "stream",
     "text": [
      "Applied providers: ['CPUExecutionProvider'], with options: {'CPUExecutionProvider': {}}\n",
      "model ignore: C:\\Users\\juane/.insightface\\models\\buffalo_l\\1k3d68.onnx landmark_3d_68\n",
      "Applied providers: ['CPUExecutionProvider'], with options: {'CPUExecutionProvider': {}}\n",
      "model ignore: C:\\Users\\juane/.insightface\\models\\buffalo_l\\2d106det.onnx landmark_2d_106\n",
      "Applied providers: ['CPUExecutionProvider'], with options: {'CPUExecutionProvider': {}}\n",
      "find model: C:\\Users\\juane/.insightface\\models\\buffalo_l\\det_10g.onnx detection [1, 3, '?', '?'] 127.5 128.0\n",
      "Applied providers: ['CPUExecutionProvider'], with options: {'CPUExecutionProvider': {}}\n",
      "model ignore: C:\\Users\\juane/.insightface\\models\\buffalo_l\\genderage.onnx genderage\n",
      "Applied providers: ['CPUExecutionProvider'], with options: {'CPUExecutionProvider': {}}\n",
      "find model: C:\\Users\\juane/.insightface\\models\\buffalo_l\\w600k_r50.onnx recognition ['None', 3, 112, 112] 127.5 127.5\n",
      "set det-size: (640, 640)\n"
     ]
    },
    {
     "name": "stderr",
     "output_type": "stream",
     "text": [
      "Extrayendo embeddings: 100%|██████████| 4531/4531 [09:48<00:00,  7.70it/s]\n"
     ]
    },
    {
     "name": "stdout",
     "output_type": "stream",
     "text": [
      "✔ Embeddings subidos a s3://hackathon-facesiupb/embeddings/embeddings.pkl\n"
     ]
    }
   ],
   "execution_count": 8
  },
  {
   "metadata": {
    "ExecuteTime": {
     "end_time": "2025-05-20T03:23:40.411943Z",
     "start_time": "2025-05-20T03:23:40.408940Z"
    }
   },
   "cell_type": "code",
   "source": [
    "import onnxruntime\n",
    "print(\"✅ ONNX Runtime version:\", onnxruntime.__version__)\n"
   ],
   "id": "d2f85f6ec53ac4b3",
   "outputs": [
    {
     "name": "stdout",
     "output_type": "stream",
     "text": [
      "✅ ONNX Runtime version: 1.15.1\n"
     ]
    }
   ],
   "execution_count": 3
  }
 ],
 "metadata": {
  "kernelspec": {
   "display_name": "Python 3",
   "language": "python",
   "name": "python3"
  },
  "language_info": {
   "codemirror_mode": {
    "name": "ipython",
    "version": 2
   },
   "file_extension": ".py",
   "mimetype": "text/x-python",
   "name": "python",
   "nbconvert_exporter": "python",
   "pygments_lexer": "ipython2",
   "version": "2.7.6"
  }
 },
 "nbformat": 4,
 "nbformat_minor": 5
}
