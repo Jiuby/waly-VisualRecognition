{
 "cells": [
  {
   "cell_type": "code",
   "id": "initial_id",
   "metadata": {
    "collapsed": true,
    "ExecuteTime": {
     "end_time": "2025-05-28T05:04:33.503327Z",
     "start_time": "2025-05-28T05:04:15.539391Z"
    }
   },
   "source": [
    "#!/usr/bin/env python3\n",
    "import os\n",
    "import sys\n",
    "import pickle\n",
    "import boto3\n",
    "import cv2\n",
    "import insightface\n",
    "import tempfile\n",
    "import shutil\n",
    "from io import BytesIO\n",
    "from tqdm import tqdm\n",
    "from sklearn.preprocessing import normalize\n",
    "import environ\n",
    "\n",
    "# ─────────────────────────────────────────────────────────────\n",
    "# 1) Localizar y leer .env junto a manage.py\n",
    "# ─────────────────────────────────────────────────────────────\n",
    "def find_project_env():\n",
    "    \"\"\"Sube la jerarquía hasta hallar manage.py y devuelve la ruta del .env.\"\"\"\n",
    "    path = os.getcwd()\n",
    "    while True:\n",
    "        if os.path.isfile(os.path.join(path, \"manage.py\")):\n",
    "            env_file = os.path.join(path, \".env\")\n",
    "            return env_file if os.path.isfile(env_file) else None\n",
    "        parent = os.path.dirname(path)\n",
    "        if parent == path:    # llegamos a la raíz\n",
    "            return None\n",
    "        path = parent\n",
    "\n",
    "dotenv_path = find_project_env()\n",
    "if not dotenv_path:\n",
    "    print(\"❌  No se encontró .env junto a manage.py\")\n",
    "    sys.exit(1)\n",
    "\n",
    "env = environ.Env()\n",
    "env.read_env(dotenv_path)\n",
    "\n",
    "try:\n",
    "    AWS_ACCESS_KEY_ID     = env(\"AWS_ACCESS_KEY_ID\")\n",
    "    AWS_SECRET_ACCESS_KEY = env(\"AWS_SECRET_ACCESS_KEY\")\n",
    "    AWS_REGION            = env(\"AWS_REGION\")\n",
    "    S3_BUCKET             = env(\"S3_BUCKET\")\n",
    "    S3_KEY                = env(\"S3_KEY\")\n",
    "except Exception as e:\n",
    "    print(f\"❌  Falta variable en .env: {e}\")\n",
    "    sys.exit(1)\n",
    "\n",
    "# ─────────────────────────────────────────────────────────────\n",
    "# 2) Cliente S3 y modelo ArcFace\n",
    "# ─────────────────────────────────────────────────────────────\n",
    "session = boto3.Session(\n",
    "    aws_access_key_id     = AWS_ACCESS_KEY_ID,\n",
    "    aws_secret_access_key = AWS_SECRET_ACCESS_KEY,\n",
    "    region_name           = AWS_REGION,\n",
    ")\n",
    "s3 = session.client(\"s3\")\n",
    "\n",
    "model = insightface.app.FaceAnalysis(allowed_modules=[\"detection\", \"recognition\"])\n",
    "model.prepare(ctx_id=0)\n",
    "\n",
    "# ─────────────────────────────────────────────────────────────\n",
    "# 3) Utilidades\n",
    "# ─────────────────────────────────────────────────────────────\n",
    "def load_embeddings(folder: str):\n",
    "    \"\"\"Extrae embeddings de todas las imágenes en `folder` con barra tqdm.\"\"\"\n",
    "    embs, labels = [], []\n",
    "    files = [f for f in os.listdir(folder) if f.lower().endswith((\".jpg\", \".jpeg\", \".png\"))]\n",
    "    for fn in tqdm(files, desc=\"🔎 Extrayendo embeddings\", unit=\"img\"):\n",
    "        path = os.path.join(folder, fn)\n",
    "        img = cv2.imread(path)\n",
    "        if img is None:\n",
    "            continue\n",
    "        for face in model.get(img):\n",
    "            if face.embedding is not None:\n",
    "                embs.append(face.embedding)\n",
    "                labels.append(os.path.splitext(fn)[0])\n",
    "    if not embs:\n",
    "        raise RuntimeError(\"No se obtuvo ningún embedding.\")\n",
    "    return normalize(embs), labels\n",
    "\n",
    "def download_faces_to(tmp_dir: str):\n",
    "    \"\"\"Descarga faces/*.jpg|png desde S3 al tmp_dir con barra de progreso.\"\"\"\n",
    "    keys = []\n",
    "    paginator = s3.get_paginator(\"list_objects_v2\")\n",
    "    for page in paginator.paginate(Bucket=S3_BUCKET, Prefix=\"faces/\"):\n",
    "        for obj in page.get(\"Contents\", []):\n",
    "            key = obj[\"Key\"]\n",
    "            if key.lower().endswith((\".jpg\", \".jpeg\", \".png\")):\n",
    "                keys.append(key)\n",
    "\n",
    "    for key in tqdm(keys, desc=\"⏬ Descargando faces\", unit=\"img\"):\n",
    "        rel = key.split(\"/\", 1)[-1]       # quita el prefijo faces/\n",
    "        local = os.path.join(tmp_dir, rel)\n",
    "        os.makedirs(os.path.dirname(local), exist_ok=True)\n",
    "        s3.download_file(S3_BUCKET, key, local)\n",
    "\n",
    "# ─────────────────────────────────────────────────────────────\n",
    "# 4) main()\n",
    "# ─────────────────────────────────────────────────────────────\n",
    "def main():\n",
    "    tmp_dir = tempfile.mkdtemp(prefix=\"faces_\")\n",
    "    try:\n",
    "        download_faces_to(tmp_dir)                # barra de progreso\n",
    "        embeddings, labels = load_embeddings(tmp_dir)\n",
    "\n",
    "        # Empaquetar y subir\n",
    "        buf = BytesIO()\n",
    "        pickle.dump({\"embeddings\": embeddings, \"labels\": labels}, buf)\n",
    "        buf.seek(0)\n",
    "        s3.upload_fileobj(buf, Bucket=S3_BUCKET, Key=S3_KEY)\n",
    "        print(f\"✔  Embeddings subidos a s3://{S3_BUCKET}/{S3_KEY}\")\n",
    "    finally:\n",
    "        shutil.rmtree(tmp_dir, ignore_errors=True)\n",
    "\n",
    "if __name__ == \"__main__\":\n",
    "    main()\n"
   ],
   "outputs": [
    {
     "name": "stdout",
     "output_type": "stream",
     "text": [
      "Applied providers: ['CPUExecutionProvider'], with options: {'CPUExecutionProvider': {}}\n",
      "model ignore: C:\\Users\\juane/.insightface\\models\\buffalo_l\\1k3d68.onnx landmark_3d_68\n",
      "Applied providers: ['CPUExecutionProvider'], with options: {'CPUExecutionProvider': {}}\n",
      "model ignore: C:\\Users\\juane/.insightface\\models\\buffalo_l\\2d106det.onnx landmark_2d_106\n",
      "Applied providers: ['CPUExecutionProvider'], with options: {'CPUExecutionProvider': {}}\n",
      "find model: C:\\Users\\juane/.insightface\\models\\buffalo_l\\det_10g.onnx detection [1, 3, '?', '?'] 127.5 128.0\n",
      "Applied providers: ['CPUExecutionProvider'], with options: {'CPUExecutionProvider': {}}\n",
      "model ignore: C:\\Users\\juane/.insightface\\models\\buffalo_l\\genderage.onnx genderage\n",
      "Applied providers: ['CPUExecutionProvider'], with options: {'CPUExecutionProvider': {}}\n",
      "find model: C:\\Users\\juane/.insightface\\models\\buffalo_l\\w600k_r50.onnx recognition ['None', 3, 112, 112] 127.5 127.5\n",
      "set det-size: (640, 640)\n"
     ]
    },
    {
     "name": "stderr",
     "output_type": "stream",
     "text": [
      "⏬ Descargando faces:   1%|          | 51/4531 [00:11<17:06,  4.37img/s]\n"
     ]
    },
    {
     "ename": "KeyboardInterrupt",
     "evalue": "",
     "output_type": "error",
     "traceback": [
      "\u001B[1;31m---------------------------------------------------------------------------\u001B[0m",
      "\u001B[1;31mKeyboardInterrupt\u001B[0m                         Traceback (most recent call last)",
      "Cell \u001B[1;32mIn[10], line 116\u001B[0m\n\u001B[0;32m    113\u001B[0m         shutil\u001B[38;5;241m.\u001B[39mrmtree(tmp_dir, ignore_errors\u001B[38;5;241m=\u001B[39m\u001B[38;5;28;01mTrue\u001B[39;00m)\n\u001B[0;32m    115\u001B[0m \u001B[38;5;28;01mif\u001B[39;00m \u001B[38;5;18m__name__\u001B[39m \u001B[38;5;241m==\u001B[39m \u001B[38;5;124m\"\u001B[39m\u001B[38;5;124m__main__\u001B[39m\u001B[38;5;124m\"\u001B[39m:\n\u001B[1;32m--> 116\u001B[0m     \u001B[43mmain\u001B[49m\u001B[43m(\u001B[49m\u001B[43m)\u001B[49m\n",
      "Cell \u001B[1;32mIn[10], line 103\u001B[0m, in \u001B[0;36mmain\u001B[1;34m()\u001B[0m\n\u001B[0;32m    101\u001B[0m tmp_dir \u001B[38;5;241m=\u001B[39m tempfile\u001B[38;5;241m.\u001B[39mmkdtemp(prefix\u001B[38;5;241m=\u001B[39m\u001B[38;5;124m\"\u001B[39m\u001B[38;5;124mfaces_\u001B[39m\u001B[38;5;124m\"\u001B[39m)\n\u001B[0;32m    102\u001B[0m \u001B[38;5;28;01mtry\u001B[39;00m:\n\u001B[1;32m--> 103\u001B[0m     \u001B[43mdownload_faces_to\u001B[49m\u001B[43m(\u001B[49m\u001B[43mtmp_dir\u001B[49m\u001B[43m)\u001B[49m                \u001B[38;5;66;03m# barra de progreso\u001B[39;00m\n\u001B[0;32m    104\u001B[0m     embeddings, labels \u001B[38;5;241m=\u001B[39m load_embeddings(tmp_dir)\n\u001B[0;32m    106\u001B[0m     \u001B[38;5;66;03m# Empaquetar y subir\u001B[39;00m\n",
      "Cell \u001B[1;32mIn[10], line 95\u001B[0m, in \u001B[0;36mdownload_faces_to\u001B[1;34m(tmp_dir)\u001B[0m\n\u001B[0;32m     93\u001B[0m local \u001B[38;5;241m=\u001B[39m os\u001B[38;5;241m.\u001B[39mpath\u001B[38;5;241m.\u001B[39mjoin(tmp_dir, rel)\n\u001B[0;32m     94\u001B[0m os\u001B[38;5;241m.\u001B[39mmakedirs(os\u001B[38;5;241m.\u001B[39mpath\u001B[38;5;241m.\u001B[39mdirname(local), exist_ok\u001B[38;5;241m=\u001B[39m\u001B[38;5;28;01mTrue\u001B[39;00m)\n\u001B[1;32m---> 95\u001B[0m \u001B[43ms3\u001B[49m\u001B[38;5;241;43m.\u001B[39;49m\u001B[43mdownload_file\u001B[49m\u001B[43m(\u001B[49m\u001B[43mS3_BUCKET\u001B[49m\u001B[43m,\u001B[49m\u001B[43m \u001B[49m\u001B[43mkey\u001B[49m\u001B[43m,\u001B[49m\u001B[43m \u001B[49m\u001B[43mlocal\u001B[49m\u001B[43m)\u001B[49m\n",
      "File \u001B[1;32m~\\Documents\\ProyectosProgramacion\\Waly\\.venv\\lib\\site-packages\\botocore\\context.py:124\u001B[0m, in \u001B[0;36mwith_current_context.<locals>.decorator.<locals>.wrapper\u001B[1;34m(*args, **kwargs)\u001B[0m\n\u001B[0;32m    122\u001B[0m \u001B[38;5;28;01mif\u001B[39;00m hook:\n\u001B[0;32m    123\u001B[0m     hook()\n\u001B[1;32m--> 124\u001B[0m \u001B[38;5;28;01mreturn\u001B[39;00m \u001B[43mfunc\u001B[49m\u001B[43m(\u001B[49m\u001B[38;5;241;43m*\u001B[39;49m\u001B[43margs\u001B[49m\u001B[43m,\u001B[49m\u001B[43m \u001B[49m\u001B[38;5;241;43m*\u001B[39;49m\u001B[38;5;241;43m*\u001B[39;49m\u001B[43mkwargs\u001B[49m\u001B[43m)\u001B[49m\n",
      "File \u001B[1;32m~\\Documents\\ProyectosProgramacion\\Waly\\.venv\\lib\\site-packages\\boto3\\s3\\inject.py:223\u001B[0m, in \u001B[0;36mdownload_file\u001B[1;34m(self, Bucket, Key, Filename, ExtraArgs, Callback, Config)\u001B[0m\n\u001B[0;32m    188\u001B[0m \u001B[38;5;250m\u001B[39m\u001B[38;5;124;03m\"\"\"Download an S3 object to a file.\u001B[39;00m\n\u001B[0;32m    189\u001B[0m \n\u001B[0;32m    190\u001B[0m \u001B[38;5;124;03mUsage::\u001B[39;00m\n\u001B[1;32m   (...)\u001B[0m\n\u001B[0;32m    220\u001B[0m \u001B[38;5;124;03m    transfer.\u001B[39;00m\n\u001B[0;32m    221\u001B[0m \u001B[38;5;124;03m\"\"\"\u001B[39;00m\n\u001B[0;32m    222\u001B[0m \u001B[38;5;28;01mwith\u001B[39;00m S3Transfer(\u001B[38;5;28mself\u001B[39m, Config) \u001B[38;5;28;01mas\u001B[39;00m transfer:\n\u001B[1;32m--> 223\u001B[0m     \u001B[38;5;28;01mreturn\u001B[39;00m \u001B[43mtransfer\u001B[49m\u001B[38;5;241;43m.\u001B[39;49m\u001B[43mdownload_file\u001B[49m\u001B[43m(\u001B[49m\n\u001B[0;32m    224\u001B[0m \u001B[43m        \u001B[49m\u001B[43mbucket\u001B[49m\u001B[38;5;241;43m=\u001B[39;49m\u001B[43mBucket\u001B[49m\u001B[43m,\u001B[49m\n\u001B[0;32m    225\u001B[0m \u001B[43m        \u001B[49m\u001B[43mkey\u001B[49m\u001B[38;5;241;43m=\u001B[39;49m\u001B[43mKey\u001B[49m\u001B[43m,\u001B[49m\n\u001B[0;32m    226\u001B[0m \u001B[43m        \u001B[49m\u001B[43mfilename\u001B[49m\u001B[38;5;241;43m=\u001B[39;49m\u001B[43mFilename\u001B[49m\u001B[43m,\u001B[49m\n\u001B[0;32m    227\u001B[0m \u001B[43m        \u001B[49m\u001B[43mextra_args\u001B[49m\u001B[38;5;241;43m=\u001B[39;49m\u001B[43mExtraArgs\u001B[49m\u001B[43m,\u001B[49m\n\u001B[0;32m    228\u001B[0m \u001B[43m        \u001B[49m\u001B[43mcallback\u001B[49m\u001B[38;5;241;43m=\u001B[39;49m\u001B[43mCallback\u001B[49m\u001B[43m,\u001B[49m\n\u001B[0;32m    229\u001B[0m \u001B[43m    \u001B[49m\u001B[43m)\u001B[49m\n",
      "File \u001B[1;32m~\\Documents\\ProyectosProgramacion\\Waly\\.venv\\lib\\site-packages\\boto3\\s3\\transfer.py:406\u001B[0m, in \u001B[0;36mS3Transfer.download_file\u001B[1;34m(self, bucket, key, filename, extra_args, callback)\u001B[0m\n\u001B[0;32m    402\u001B[0m future \u001B[38;5;241m=\u001B[39m \u001B[38;5;28mself\u001B[39m\u001B[38;5;241m.\u001B[39m_manager\u001B[38;5;241m.\u001B[39mdownload(\n\u001B[0;32m    403\u001B[0m     bucket, key, filename, extra_args, subscribers\n\u001B[0;32m    404\u001B[0m )\n\u001B[0;32m    405\u001B[0m \u001B[38;5;28;01mtry\u001B[39;00m:\n\u001B[1;32m--> 406\u001B[0m     \u001B[43mfuture\u001B[49m\u001B[38;5;241;43m.\u001B[39;49m\u001B[43mresult\u001B[49m\u001B[43m(\u001B[49m\u001B[43m)\u001B[49m\n\u001B[0;32m    407\u001B[0m \u001B[38;5;66;03m# This is for backwards compatibility where when retries are\u001B[39;00m\n\u001B[0;32m    408\u001B[0m \u001B[38;5;66;03m# exceeded we need to throw the same error from boto3 instead of\u001B[39;00m\n\u001B[0;32m    409\u001B[0m \u001B[38;5;66;03m# s3transfer's built in RetriesExceededError as current users are\u001B[39;00m\n\u001B[0;32m    410\u001B[0m \u001B[38;5;66;03m# catching the boto3 one instead of the s3transfer exception to do\u001B[39;00m\n\u001B[0;32m    411\u001B[0m \u001B[38;5;66;03m# their own retries.\u001B[39;00m\n\u001B[0;32m    412\u001B[0m \u001B[38;5;28;01mexcept\u001B[39;00m S3TransferRetriesExceededError \u001B[38;5;28;01mas\u001B[39;00m e:\n",
      "File \u001B[1;32m~\\Documents\\ProyectosProgramacion\\Waly\\.venv\\lib\\site-packages\\s3transfer\\futures.py:114\u001B[0m, in \u001B[0;36mTransferFuture.result\u001B[1;34m(self)\u001B[0m\n\u001B[0;32m    112\u001B[0m \u001B[38;5;28;01mexcept\u001B[39;00m \u001B[38;5;167;01mKeyboardInterrupt\u001B[39;00m \u001B[38;5;28;01mas\u001B[39;00m e:\n\u001B[0;32m    113\u001B[0m     \u001B[38;5;28mself\u001B[39m\u001B[38;5;241m.\u001B[39mcancel()\n\u001B[1;32m--> 114\u001B[0m     \u001B[38;5;28;01mraise\u001B[39;00m e\n",
      "File \u001B[1;32m~\\Documents\\ProyectosProgramacion\\Waly\\.venv\\lib\\site-packages\\s3transfer\\futures.py:111\u001B[0m, in \u001B[0;36mTransferFuture.result\u001B[1;34m(self)\u001B[0m\n\u001B[0;32m    106\u001B[0m \u001B[38;5;28;01mdef\u001B[39;00m\u001B[38;5;250m \u001B[39m\u001B[38;5;21mresult\u001B[39m(\u001B[38;5;28mself\u001B[39m):\n\u001B[0;32m    107\u001B[0m     \u001B[38;5;28;01mtry\u001B[39;00m:\n\u001B[0;32m    108\u001B[0m         \u001B[38;5;66;03m# Usually the result() method blocks until the transfer is done,\u001B[39;00m\n\u001B[0;32m    109\u001B[0m         \u001B[38;5;66;03m# however if a KeyboardInterrupt is raised we want want to exit\u001B[39;00m\n\u001B[0;32m    110\u001B[0m         \u001B[38;5;66;03m# out of this and propagate the exception.\u001B[39;00m\n\u001B[1;32m--> 111\u001B[0m         \u001B[38;5;28;01mreturn\u001B[39;00m \u001B[38;5;28;43mself\u001B[39;49m\u001B[38;5;241;43m.\u001B[39;49m\u001B[43m_coordinator\u001B[49m\u001B[38;5;241;43m.\u001B[39;49m\u001B[43mresult\u001B[49m\u001B[43m(\u001B[49m\u001B[43m)\u001B[49m\n\u001B[0;32m    112\u001B[0m     \u001B[38;5;28;01mexcept\u001B[39;00m \u001B[38;5;167;01mKeyboardInterrupt\u001B[39;00m \u001B[38;5;28;01mas\u001B[39;00m e:\n\u001B[0;32m    113\u001B[0m         \u001B[38;5;28mself\u001B[39m\u001B[38;5;241m.\u001B[39mcancel()\n",
      "File \u001B[1;32m~\\Documents\\ProyectosProgramacion\\Waly\\.venv\\lib\\site-packages\\s3transfer\\futures.py:267\u001B[0m, in \u001B[0;36mTransferCoordinator.result\u001B[1;34m(self)\u001B[0m\n\u001B[0;32m    257\u001B[0m \u001B[38;5;250m\u001B[39m\u001B[38;5;124;03m\"\"\"Waits until TransferFuture is done and returns the result\u001B[39;00m\n\u001B[0;32m    258\u001B[0m \n\u001B[0;32m    259\u001B[0m \u001B[38;5;124;03mIf the TransferFuture succeeded, it will return the result. If the\u001B[39;00m\n\u001B[0;32m    260\u001B[0m \u001B[38;5;124;03mTransferFuture failed, it will raise the exception associated to the\u001B[39;00m\n\u001B[0;32m    261\u001B[0m \u001B[38;5;124;03mfailure.\u001B[39;00m\n\u001B[0;32m    262\u001B[0m \u001B[38;5;124;03m\"\"\"\u001B[39;00m\n\u001B[0;32m    263\u001B[0m \u001B[38;5;66;03m# Doing a wait() with no timeout cannot be interrupted in python2 but\u001B[39;00m\n\u001B[0;32m    264\u001B[0m \u001B[38;5;66;03m# can be interrupted in python3 so we just wait with the largest\u001B[39;00m\n\u001B[0;32m    265\u001B[0m \u001B[38;5;66;03m# possible value integer value, which is on the scale of billions of\u001B[39;00m\n\u001B[0;32m    266\u001B[0m \u001B[38;5;66;03m# years...\u001B[39;00m\n\u001B[1;32m--> 267\u001B[0m \u001B[38;5;28;43mself\u001B[39;49m\u001B[38;5;241;43m.\u001B[39;49m\u001B[43m_done_event\u001B[49m\u001B[38;5;241;43m.\u001B[39;49m\u001B[43mwait\u001B[49m\u001B[43m(\u001B[49m\u001B[43mMAXINT\u001B[49m\u001B[43m)\u001B[49m\n\u001B[0;32m    269\u001B[0m \u001B[38;5;66;03m# Once done waiting, raise an exception if present or return the\u001B[39;00m\n\u001B[0;32m    270\u001B[0m \u001B[38;5;66;03m# final result.\u001B[39;00m\n\u001B[0;32m    271\u001B[0m \u001B[38;5;28;01mif\u001B[39;00m \u001B[38;5;28mself\u001B[39m\u001B[38;5;241m.\u001B[39m_exception:\n",
      "File \u001B[1;32m~\\AppData\\Local\\Programs\\Python\\Python38\\lib\\threading.py:558\u001B[0m, in \u001B[0;36mEvent.wait\u001B[1;34m(self, timeout)\u001B[0m\n\u001B[0;32m    556\u001B[0m signaled \u001B[38;5;241m=\u001B[39m \u001B[38;5;28mself\u001B[39m\u001B[38;5;241m.\u001B[39m_flag\n\u001B[0;32m    557\u001B[0m \u001B[38;5;28;01mif\u001B[39;00m \u001B[38;5;129;01mnot\u001B[39;00m signaled:\n\u001B[1;32m--> 558\u001B[0m     signaled \u001B[38;5;241m=\u001B[39m \u001B[38;5;28;43mself\u001B[39;49m\u001B[38;5;241;43m.\u001B[39;49m\u001B[43m_cond\u001B[49m\u001B[38;5;241;43m.\u001B[39;49m\u001B[43mwait\u001B[49m\u001B[43m(\u001B[49m\u001B[43mtimeout\u001B[49m\u001B[43m)\u001B[49m\n\u001B[0;32m    559\u001B[0m \u001B[38;5;28;01mreturn\u001B[39;00m signaled\n",
      "File \u001B[1;32m~\\AppData\\Local\\Programs\\Python\\Python38\\lib\\threading.py:302\u001B[0m, in \u001B[0;36mCondition.wait\u001B[1;34m(self, timeout)\u001B[0m\n\u001B[0;32m    300\u001B[0m \u001B[38;5;28;01mtry\u001B[39;00m:    \u001B[38;5;66;03m# restore state no matter what (e.g., KeyboardInterrupt)\u001B[39;00m\n\u001B[0;32m    301\u001B[0m     \u001B[38;5;28;01mif\u001B[39;00m timeout \u001B[38;5;129;01mis\u001B[39;00m \u001B[38;5;28;01mNone\u001B[39;00m:\n\u001B[1;32m--> 302\u001B[0m         \u001B[43mwaiter\u001B[49m\u001B[38;5;241;43m.\u001B[39;49m\u001B[43macquire\u001B[49m\u001B[43m(\u001B[49m\u001B[43m)\u001B[49m\n\u001B[0;32m    303\u001B[0m         gotit \u001B[38;5;241m=\u001B[39m \u001B[38;5;28;01mTrue\u001B[39;00m\n\u001B[0;32m    304\u001B[0m     \u001B[38;5;28;01melse\u001B[39;00m:\n",
      "\u001B[1;31mKeyboardInterrupt\u001B[0m: "
     ]
    }
   ],
   "execution_count": 10
  },
  {
   "metadata": {
    "ExecuteTime": {
     "end_time": "2025-05-20T03:23:40.411943Z",
     "start_time": "2025-05-20T03:23:40.408940Z"
    }
   },
   "cell_type": "code",
   "source": [
    "import onnxruntime\n",
    "print(\"✅ ONNX Runtime version:\", onnxruntime.__version__)\n"
   ],
   "id": "d2f85f6ec53ac4b3",
   "outputs": [
    {
     "name": "stdout",
     "output_type": "stream",
     "text": [
      "✅ ONNX Runtime version: 1.15.1\n"
     ]
    }
   ],
   "execution_count": 3
  }
 ],
 "metadata": {
  "kernelspec": {
   "display_name": "Python 3",
   "language": "python",
   "name": "python3"
  },
  "language_info": {
   "codemirror_mode": {
    "name": "ipython",
    "version": 2
   },
   "file_extension": ".py",
   "mimetype": "text/x-python",
   "name": "python",
   "nbconvert_exporter": "python",
   "pygments_lexer": "ipython2",
   "version": "2.7.6"
  }
 },
 "nbformat": 4,
 "nbformat_minor": 5
}
