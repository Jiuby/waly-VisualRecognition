{
 "cells": [
  {
   "cell_type": "code",
   "id": "initial_id",
   "metadata": {
    "collapsed": true,
    "ExecuteTime": {
     "end_time": "2025-05-20T18:26:12.337440Z",
     "start_time": "2025-05-20T18:17:10.076099Z"
    }
   },
   "source": [
    "import os\n",
    "import cv2\n",
    "import pickle\n",
    "import numpy as np\n",
    "import insightface\n",
    "from sklearn.preprocessing import normalize\n",
    "from tqdm import tqdm\n",
    "import time\n",
    "import boto3\n",
    "from io import BytesIO\n",
    "from django.conf import settings\n",
    "\n",
    "\n",
    "\n",
    "\n",
    "# Parámetros S3\n",
    "S3_BUCKET = 'hackathon-facesiupb'\n",
    "S3_PREFIX = 'faces/'\n",
    "S3_KEY    = 'embeddings/embeddings.pkl'  # ruta dentro de S3\n",
    "\n",
    "# Inicializar cliente S3 con credenciales en el código\n",
    "s3 = boto3.client(\n",
    "    's3',\n",
    "    region_name            = settings.AWS_REGION,\n",
    "    aws_access_key_id      = settings.AWS_ACCESS_KEY_ID,\n",
    "    aws_secret_access_key  = settings.AWS_SECRET_ACCESS_KEY,\n",
    ")\n",
    "# Inicializas tu modelo ArcFace igual que antes...\n",
    "model = insightface.app.FaceAnalysis(allowed_modules=['detection', 'recognition'])\n",
    "model.prepare(ctx_id=0)\n",
    "\n",
    "def load_images_and_extract_embeddings(image_folder):\n",
    "    embeddings, labels = [], []\n",
    "    for file_name in tqdm(os.listdir(image_folder), desc=\"Extrayendo embeddings\"):\n",
    "        img = cv2.imread(os.path.join(image_folder, file_name))\n",
    "        if img is None: continue\n",
    "        for face in model.get(img):\n",
    "            if face.embedding is not None:\n",
    "                embeddings.append(face.embedding)\n",
    "                labels.append(os.path.splitext(file_name)[0])\n",
    "    return normalize(np.array(embeddings)), labels\n",
    "\n",
    "# 1) Extrae y normaliza\n",
    "embeddings, labels = load_images_and_extract_embeddings('faces/')\n",
    "\n",
    "# 2) Empaqueta y vuelca a pickle en memoria\n",
    "buffer = BytesIO()\n",
    "pickle.dump({'embeddings': embeddings, 'labels': labels}, buffer)\n",
    "buffer.seek(0)\n",
    "\n",
    "# 3) Sube a S3 directamente desde memoria\n",
    "s3.upload_fileobj(buffer, Bucket=S3_BUCKET, Key=S3_KEY)\n",
    "print(f\"✔ Embeddings subidos a s3://{S3_BUCKET}/{S3_KEY}\")\n"
   ],
   "outputs": [
    {
     "name": "stderr",
     "output_type": "stream",
     "text": [
      "C:\\Users\\juane\\Documents\\ProyectosProgramacion\\Waly\\.venv\\lib\\site-packages\\onnxruntime\\capi\\onnxruntime_inference_collection.py:65: UserWarning: Specified provider 'CUDAExecutionProvider' is not in available provider names.Available providers: 'CPUExecutionProvider'\n",
      "  warnings.warn(\n"
     ]
    },
    {
     "name": "stdout",
     "output_type": "stream",
     "text": [
      "Applied providers: ['CPUExecutionProvider'], with options: {'CPUExecutionProvider': {}}\n",
      "model ignore: C:\\Users\\juane/.insightface\\models\\buffalo_l\\1k3d68.onnx landmark_3d_68\n",
      "Applied providers: ['CPUExecutionProvider'], with options: {'CPUExecutionProvider': {}}\n",
      "model ignore: C:\\Users\\juane/.insightface\\models\\buffalo_l\\2d106det.onnx landmark_2d_106\n",
      "Applied providers: ['CPUExecutionProvider'], with options: {'CPUExecutionProvider': {}}\n",
      "find model: C:\\Users\\juane/.insightface\\models\\buffalo_l\\det_10g.onnx detection [1, 3, '?', '?'] 127.5 128.0\n",
      "Applied providers: ['CPUExecutionProvider'], with options: {'CPUExecutionProvider': {}}\n",
      "model ignore: C:\\Users\\juane/.insightface\\models\\buffalo_l\\genderage.onnx genderage\n",
      "Applied providers: ['CPUExecutionProvider'], with options: {'CPUExecutionProvider': {}}\n",
      "find model: C:\\Users\\juane/.insightface\\models\\buffalo_l\\w600k_r50.onnx recognition ['None', 3, 112, 112] 127.5 127.5\n",
      "set det-size: (640, 640)\n"
     ]
    },
    {
     "name": "stderr",
     "output_type": "stream",
     "text": [
      "Extrayendo embeddings: 100%|██████████| 4531/4531 [08:59<00:00,  8.39it/s]\n"
     ]
    },
    {
     "name": "stdout",
     "output_type": "stream",
     "text": [
      "✔ Embeddings subidos a s3://hackathon-facesiupb/embeddings/embeddings.pkl\n"
     ]
    }
   ],
   "execution_count": 2
  },
  {
   "metadata": {
    "ExecuteTime": {
     "end_time": "2025-05-20T03:23:40.411943Z",
     "start_time": "2025-05-20T03:23:40.408940Z"
    }
   },
   "cell_type": "code",
   "source": [
    "import onnxruntime\n",
    "print(\"✅ ONNX Runtime version:\", onnxruntime.__version__)\n"
   ],
   "id": "d2f85f6ec53ac4b3",
   "outputs": [
    {
     "name": "stdout",
     "output_type": "stream",
     "text": [
      "✅ ONNX Runtime version: 1.15.1\n"
     ]
    }
   ],
   "execution_count": 3
  }
 ],
 "metadata": {
  "kernelspec": {
   "display_name": "Python 3",
   "language": "python",
   "name": "python3"
  },
  "language_info": {
   "codemirror_mode": {
    "name": "ipython",
    "version": 2
   },
   "file_extension": ".py",
   "mimetype": "text/x-python",
   "name": "python",
   "nbconvert_exporter": "python",
   "pygments_lexer": "ipython2",
   "version": "2.7.6"
  }
 },
 "nbformat": 4,
 "nbformat_minor": 5
}
